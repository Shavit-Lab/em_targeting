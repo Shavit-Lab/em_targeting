{
 "cells": [
  {
   "cell_type": "code",
   "execution_count": 1,
   "metadata": {},
   "outputs": [],
   "source": [
    "# list all files in image_dir\n",
    "import os\n",
    "import numpy as np\n",
    "import matplotlib.pyplot as plt\n",
    "from pathlib import Path\n",
    "from em_targeting.em_targeting.scripts.flip_fxn_tst import test \n",
    "from em_targeting.draw_polygon import read_image, mask_to_tiles\n",
    "from em_targeting.mask_processing import postprocess_mask\n",
    "import napari\n",
    "from skimage import io, measure\n",
    "from skimage.filters import threshold_otsu, gaussian\n",
    "from skimage.morphology import binary_closing, disk, binary_dilation\n",
    "from tqdm import tqdm\n",
    "import time\n",
    "import seaborn as sns \n",
    "import pandas as pd"
   ]
  },
  {
   "cell_type": "code",
   "execution_count": 2,
   "metadata": {},
   "outputs": [],
   "source": [
    "image_dir = Path(\"/Users/thomasathey/Library/CloudStorage/OneDrive-MassachusettsInstituteofTechnology/jellyfish-imaging/24_12_04_multi_res/images\")\n",
    "\n",
    "# list name of all folders in image_dir\n",
    "folders = [f for f in os.listdir(image_dir) if os.path.isdir(os.path.join(image_dir, f))]"
   ]
  },
  {
   "cell_type": "markdown",
   "metadata": {},
   "source": [
    "# Refine ground truth"
   ]
  },
  {
   "cell_type": "code",
   "execution_count": 4,
   "metadata": {},
   "outputs": [
    {
     "name": "stderr",
     "output_type": "stream",
     "text": [
      "  0%|          | 0/6 [00:00<?, ?it/s]/Users/thomasathey/Documents/shavit-lab/jellyfish/.venv/lib/python3.12/site-packages/PIL/Image.py:3406: DecompressionBombWarning: Image size (150994944 pixels) exceeds limit of 89478485 pixels, could be decompression bomb DOS attack.\n",
      "  warnings.warn(\n",
      "/var/folders/gy/jk_d3cx54vj18w9sm6x3sg_80000gn/T/ipykernel_41732/1943300817.py:40: UserWarning: /Users/thomasathey/Library/CloudStorage/OneDrive-MassachusettsInstituteofTechnology/jellyfish-imaging/24_12_04_multi_res/images/16/p16_Section_003_r02_c02_tissue_gt_process.tif is a low contrast image\n",
      "  io.imsave(path_seg_new, mask.astype(np.uint8))\n",
      "/var/folders/gy/jk_d3cx54vj18w9sm6x3sg_80000gn/T/ipykernel_41732/1943300817.py:40: UserWarning: /Users/thomasathey/Library/CloudStorage/OneDrive-MassachusettsInstituteofTechnology/jellyfish-imaging/24_12_04_multi_res/images/16/p16_Section_005_r01_c01_tissue_gt_process.tif is a low contrast image\n",
      "  io.imsave(path_seg_new, mask.astype(np.uint8))\n",
      "/var/folders/gy/jk_d3cx54vj18w9sm6x3sg_80000gn/T/ipykernel_41732/1943300817.py:40: UserWarning: /Users/thomasathey/Library/CloudStorage/OneDrive-MassachusettsInstituteofTechnology/jellyfish-imaging/24_12_04_multi_res/images/16/p16_Section_003_r02_c01_tissue_gt_process.tif is a low contrast image\n",
      "  io.imsave(path_seg_new, mask.astype(np.uint8))\n",
      "/var/folders/gy/jk_d3cx54vj18w9sm6x3sg_80000gn/T/ipykernel_41732/1943300817.py:40: UserWarning: /Users/thomasathey/Library/CloudStorage/OneDrive-MassachusettsInstituteofTechnology/jellyfish-imaging/24_12_04_multi_res/images/16/p16_Section_005_r01_c02_tissue_gt_process.tif is a low contrast image\n",
      "  io.imsave(path_seg_new, mask.astype(np.uint8))\n",
      "/var/folders/gy/jk_d3cx54vj18w9sm6x3sg_80000gn/T/ipykernel_41732/1943300817.py:40: UserWarning: /Users/thomasathey/Library/CloudStorage/OneDrive-MassachusettsInstituteofTechnology/jellyfish-imaging/24_12_04_multi_res/images/16/p16_Section_003_r01_c01_tissue_gt_process.tif is a low contrast image\n",
      "  io.imsave(path_seg_new, mask.astype(np.uint8))\n",
      "/var/folders/gy/jk_d3cx54vj18w9sm6x3sg_80000gn/T/ipykernel_41732/1943300817.py:40: UserWarning: /Users/thomasathey/Library/CloudStorage/OneDrive-MassachusettsInstituteofTechnology/jellyfish-imaging/24_12_04_multi_res/images/16/p16_Section_005_r02_c02_tissue_gt_process.tif is a low contrast image\n",
      "  io.imsave(path_seg_new, mask.astype(np.uint8))\n",
      "/var/folders/gy/jk_d3cx54vj18w9sm6x3sg_80000gn/T/ipykernel_41732/1943300817.py:40: UserWarning: /Users/thomasathey/Library/CloudStorage/OneDrive-MassachusettsInstituteofTechnology/jellyfish-imaging/24_12_04_multi_res/images/16/p16_Section_003_r01_c02_tissue_gt_process.tif is a low contrast image\n",
      "  io.imsave(path_seg_new, mask.astype(np.uint8))\n",
      "/var/folders/gy/jk_d3cx54vj18w9sm6x3sg_80000gn/T/ipykernel_41732/1943300817.py:40: UserWarning: /Users/thomasathey/Library/CloudStorage/OneDrive-MassachusettsInstituteofTechnology/jellyfish-imaging/24_12_04_multi_res/images/16/p16_Section_005_r02_c01_tissue_gt_process.tif is a low contrast image\n",
      "  io.imsave(path_seg_new, mask.astype(np.uint8))\n",
      "/var/folders/gy/jk_d3cx54vj18w9sm6x3sg_80000gn/T/ipykernel_41732/1943300817.py:40: UserWarning: /Users/thomasathey/Library/CloudStorage/OneDrive-MassachusettsInstituteofTechnology/jellyfish-imaging/24_12_04_multi_res/images/16/p16_Section_001_r01_c01_tissue_gt_process.tif is a low contrast image\n",
      "  io.imsave(path_seg_new, mask.astype(np.uint8))\n",
      "/var/folders/gy/jk_d3cx54vj18w9sm6x3sg_80000gn/T/ipykernel_41732/1943300817.py:40: UserWarning: /Users/thomasathey/Library/CloudStorage/OneDrive-MassachusettsInstituteofTechnology/jellyfish-imaging/24_12_04_multi_res/images/16/p16_Section_001_r01_c02_tissue_gt_process.tif is a low contrast image\n",
      "  io.imsave(path_seg_new, mask.astype(np.uint8))\n",
      "/var/folders/gy/jk_d3cx54vj18w9sm6x3sg_80000gn/T/ipykernel_41732/1943300817.py:40: UserWarning: /Users/thomasathey/Library/CloudStorage/OneDrive-MassachusettsInstituteofTechnology/jellyfish-imaging/24_12_04_multi_res/images/16/p16_Section_004_r01_c02_tissue_gt_process.tif is a low contrast image\n",
      "  io.imsave(path_seg_new, mask.astype(np.uint8))\n",
      "/var/folders/gy/jk_d3cx54vj18w9sm6x3sg_80000gn/T/ipykernel_41732/1943300817.py:40: UserWarning: /Users/thomasathey/Library/CloudStorage/OneDrive-MassachusettsInstituteofTechnology/jellyfish-imaging/24_12_04_multi_res/images/16/p16_Section_002_r02_c01_tissue_gt_process.tif is a low contrast image\n",
      "  io.imsave(path_seg_new, mask.astype(np.uint8))\n",
      "/var/folders/gy/jk_d3cx54vj18w9sm6x3sg_80000gn/T/ipykernel_41732/1943300817.py:40: UserWarning: /Users/thomasathey/Library/CloudStorage/OneDrive-MassachusettsInstituteofTechnology/jellyfish-imaging/24_12_04_multi_res/images/16/p16_Section_004_r01_c01_tissue_gt_process.tif is a low contrast image\n",
      "  io.imsave(path_seg_new, mask.astype(np.uint8))\n",
      "/var/folders/gy/jk_d3cx54vj18w9sm6x3sg_80000gn/T/ipykernel_41732/1943300817.py:40: UserWarning: /Users/thomasathey/Library/CloudStorage/OneDrive-MassachusettsInstituteofTechnology/jellyfish-imaging/24_12_04_multi_res/images/16/p16_Section_002_r02_c02_tissue_gt_process.tif is a low contrast image\n",
      "  io.imsave(path_seg_new, mask.astype(np.uint8))\n",
      "/var/folders/gy/jk_d3cx54vj18w9sm6x3sg_80000gn/T/ipykernel_41732/1943300817.py:40: UserWarning: /Users/thomasathey/Library/CloudStorage/OneDrive-MassachusettsInstituteofTechnology/jellyfish-imaging/24_12_04_multi_res/images/16/p16_Section_001_r02_c02_tissue_gt_process.tif is a low contrast image\n",
      "  io.imsave(path_seg_new, mask.astype(np.uint8))\n",
      "/var/folders/gy/jk_d3cx54vj18w9sm6x3sg_80000gn/T/ipykernel_41732/1943300817.py:40: UserWarning: /Users/thomasathey/Library/CloudStorage/OneDrive-MassachusettsInstituteofTechnology/jellyfish-imaging/24_12_04_multi_res/images/16/p16_Section_001_r02_c01_tissue_gt_process.tif is a low contrast image\n",
      "  io.imsave(path_seg_new, mask.astype(np.uint8))\n",
      "/var/folders/gy/jk_d3cx54vj18w9sm6x3sg_80000gn/T/ipykernel_41732/1943300817.py:40: UserWarning: /Users/thomasathey/Library/CloudStorage/OneDrive-MassachusettsInstituteofTechnology/jellyfish-imaging/24_12_04_multi_res/images/16/p16_Section_004_r02_c01_tissue_gt_process.tif is a low contrast image\n",
      "  io.imsave(path_seg_new, mask.astype(np.uint8))\n",
      "/var/folders/gy/jk_d3cx54vj18w9sm6x3sg_80000gn/T/ipykernel_41732/1943300817.py:40: UserWarning: /Users/thomasathey/Library/CloudStorage/OneDrive-MassachusettsInstituteofTechnology/jellyfish-imaging/24_12_04_multi_res/images/16/p16_Section_002_r01_c02_tissue_gt_process.tif is a low contrast image\n",
      "  io.imsave(path_seg_new, mask.astype(np.uint8))\n",
      "/var/folders/gy/jk_d3cx54vj18w9sm6x3sg_80000gn/T/ipykernel_41732/1943300817.py:40: UserWarning: /Users/thomasathey/Library/CloudStorage/OneDrive-MassachusettsInstituteofTechnology/jellyfish-imaging/24_12_04_multi_res/images/16/p16_Section_004_r02_c02_tissue_gt_process.tif is a low contrast image\n",
      "  io.imsave(path_seg_new, mask.astype(np.uint8))\n",
      "/var/folders/gy/jk_d3cx54vj18w9sm6x3sg_80000gn/T/ipykernel_41732/1943300817.py:40: UserWarning: /Users/thomasathey/Library/CloudStorage/OneDrive-MassachusettsInstituteofTechnology/jellyfish-imaging/24_12_04_multi_res/images/16/p16_Section_002_r01_c01_tissue_gt_process.tif is a low contrast image\n",
      "  io.imsave(path_seg_new, mask.astype(np.uint8))\n",
      " 17%|█▋        | 1/6 [11:40<58:22, 700.45s/it]/var/folders/gy/jk_d3cx54vj18w9sm6x3sg_80000gn/T/ipykernel_41732/1943300817.py:40: UserWarning: /Users/thomasathey/Library/CloudStorage/OneDrive-MassachusettsInstituteofTechnology/jellyfish-imaging/24_12_04_multi_res/images/8/p8_Section_001_r01_c02_tissue_gt_process.tif is a low contrast image\n",
      "  io.imsave(path_seg_new, mask.astype(np.uint8))\n",
      "/var/folders/gy/jk_d3cx54vj18w9sm6x3sg_80000gn/T/ipykernel_41732/1943300817.py:40: UserWarning: /Users/thomasathey/Library/CloudStorage/OneDrive-MassachusettsInstituteofTechnology/jellyfish-imaging/24_12_04_multi_res/images/8/p8_Section_001_r01_c01_tissue_gt_process.tif is a low contrast image\n",
      "  io.imsave(path_seg_new, mask.astype(np.uint8))\n",
      "/var/folders/gy/jk_d3cx54vj18w9sm6x3sg_80000gn/T/ipykernel_41732/1943300817.py:40: UserWarning: /Users/thomasathey/Library/CloudStorage/OneDrive-MassachusettsInstituteofTechnology/jellyfish-imaging/24_12_04_multi_res/images/8/p8_Section_002_r02_c02_tissue_gt_process.tif is a low contrast image\n",
      "  io.imsave(path_seg_new, mask.astype(np.uint8))\n",
      "/var/folders/gy/jk_d3cx54vj18w9sm6x3sg_80000gn/T/ipykernel_41732/1943300817.py:40: UserWarning: /Users/thomasathey/Library/CloudStorage/OneDrive-MassachusettsInstituteofTechnology/jellyfish-imaging/24_12_04_multi_res/images/8/p8_Section_004_r01_c01_tissue_gt_process.tif is a low contrast image\n",
      "  io.imsave(path_seg_new, mask.astype(np.uint8))\n",
      "/var/folders/gy/jk_d3cx54vj18w9sm6x3sg_80000gn/T/ipykernel_41732/1943300817.py:40: UserWarning: /Users/thomasathey/Library/CloudStorage/OneDrive-MassachusettsInstituteofTechnology/jellyfish-imaging/24_12_04_multi_res/images/8/p8_Section_002_r02_c01_tissue_gt_process.tif is a low contrast image\n",
      "  io.imsave(path_seg_new, mask.astype(np.uint8))\n",
      "/var/folders/gy/jk_d3cx54vj18w9sm6x3sg_80000gn/T/ipykernel_41732/1943300817.py:40: UserWarning: /Users/thomasathey/Library/CloudStorage/OneDrive-MassachusettsInstituteofTechnology/jellyfish-imaging/24_12_04_multi_res/images/8/p8_Section_004_r01_c02_tissue_gt_process.tif is a low contrast image\n",
      "  io.imsave(path_seg_new, mask.astype(np.uint8))\n",
      "/var/folders/gy/jk_d3cx54vj18w9sm6x3sg_80000gn/T/ipykernel_41732/1943300817.py:40: UserWarning: /Users/thomasathey/Library/CloudStorage/OneDrive-MassachusettsInstituteofTechnology/jellyfish-imaging/24_12_04_multi_res/images/8/p8_Section_001_r02_c01_tissue_gt_process.tif is a low contrast image\n",
      "  io.imsave(path_seg_new, mask.astype(np.uint8))\n",
      "/var/folders/gy/jk_d3cx54vj18w9sm6x3sg_80000gn/T/ipykernel_41732/1943300817.py:40: UserWarning: /Users/thomasathey/Library/CloudStorage/OneDrive-MassachusettsInstituteofTechnology/jellyfish-imaging/24_12_04_multi_res/images/8/p8_Section_001_r02_c02_tissue_gt_process.tif is a low contrast image\n",
      "  io.imsave(path_seg_new, mask.astype(np.uint8))\n",
      "/var/folders/gy/jk_d3cx54vj18w9sm6x3sg_80000gn/T/ipykernel_41732/1943300817.py:40: UserWarning: /Users/thomasathey/Library/CloudStorage/OneDrive-MassachusettsInstituteofTechnology/jellyfish-imaging/24_12_04_multi_res/images/8/p8_Section_002_r01_c01_tissue_gt_process.tif is a low contrast image\n",
      "  io.imsave(path_seg_new, mask.astype(np.uint8))\n",
      "/var/folders/gy/jk_d3cx54vj18w9sm6x3sg_80000gn/T/ipykernel_41732/1943300817.py:40: UserWarning: /Users/thomasathey/Library/CloudStorage/OneDrive-MassachusettsInstituteofTechnology/jellyfish-imaging/24_12_04_multi_res/images/8/p8_Section_004_r02_c02_tissue_gt_process.tif is a low contrast image\n",
      "  io.imsave(path_seg_new, mask.astype(np.uint8))\n",
      "/var/folders/gy/jk_d3cx54vj18w9sm6x3sg_80000gn/T/ipykernel_41732/1943300817.py:40: UserWarning: /Users/thomasathey/Library/CloudStorage/OneDrive-MassachusettsInstituteofTechnology/jellyfish-imaging/24_12_04_multi_res/images/8/p8_Section_002_r01_c02_tissue_gt_process.tif is a low contrast image\n",
      "  io.imsave(path_seg_new, mask.astype(np.uint8))\n",
      "/var/folders/gy/jk_d3cx54vj18w9sm6x3sg_80000gn/T/ipykernel_41732/1943300817.py:40: UserWarning: /Users/thomasathey/Library/CloudStorage/OneDrive-MassachusettsInstituteofTechnology/jellyfish-imaging/24_12_04_multi_res/images/8/p8_Section_004_r02_c01_tissue_gt_process.tif is a low contrast image\n",
      "  io.imsave(path_seg_new, mask.astype(np.uint8))\n",
      "/var/folders/gy/jk_d3cx54vj18w9sm6x3sg_80000gn/T/ipykernel_41732/1943300817.py:40: UserWarning: /Users/thomasathey/Library/CloudStorage/OneDrive-MassachusettsInstituteofTechnology/jellyfish-imaging/24_12_04_multi_res/images/8/p8_Section_005_r01_c02_tissue_gt_process.tif is a low contrast image\n",
      "  io.imsave(path_seg_new, mask.astype(np.uint8))\n",
      "/var/folders/gy/jk_d3cx54vj18w9sm6x3sg_80000gn/T/ipykernel_41732/1943300817.py:40: UserWarning: /Users/thomasathey/Library/CloudStorage/OneDrive-MassachusettsInstituteofTechnology/jellyfish-imaging/24_12_04_multi_res/images/8/p8_Section_003_r02_c01_tissue_gt_process.tif is a low contrast image\n",
      "  io.imsave(path_seg_new, mask.astype(np.uint8))\n",
      "/var/folders/gy/jk_d3cx54vj18w9sm6x3sg_80000gn/T/ipykernel_41732/1943300817.py:40: UserWarning: /Users/thomasathey/Library/CloudStorage/OneDrive-MassachusettsInstituteofTechnology/jellyfish-imaging/24_12_04_multi_res/images/8/p8_Section_005_r01_c01_tissue_gt_process.tif is a low contrast image\n",
      "  io.imsave(path_seg_new, mask.astype(np.uint8))\n",
      "/var/folders/gy/jk_d3cx54vj18w9sm6x3sg_80000gn/T/ipykernel_41732/1943300817.py:40: UserWarning: /Users/thomasathey/Library/CloudStorage/OneDrive-MassachusettsInstituteofTechnology/jellyfish-imaging/24_12_04_multi_res/images/8/p8_Section_003_r02_c02_tissue_gt_process.tif is a low contrast image\n",
      "  io.imsave(path_seg_new, mask.astype(np.uint8))\n",
      "/var/folders/gy/jk_d3cx54vj18w9sm6x3sg_80000gn/T/ipykernel_41732/1943300817.py:40: UserWarning: /Users/thomasathey/Library/CloudStorage/OneDrive-MassachusettsInstituteofTechnology/jellyfish-imaging/24_12_04_multi_res/images/8/p8_Section_005_r02_c01_tissue_gt_process.tif is a low contrast image\n",
      "  io.imsave(path_seg_new, mask.astype(np.uint8))\n",
      "/var/folders/gy/jk_d3cx54vj18w9sm6x3sg_80000gn/T/ipykernel_41732/1943300817.py:40: UserWarning: /Users/thomasathey/Library/CloudStorage/OneDrive-MassachusettsInstituteofTechnology/jellyfish-imaging/24_12_04_multi_res/images/8/p8_Section_003_r01_c02_tissue_gt_process.tif is a low contrast image\n",
      "  io.imsave(path_seg_new, mask.astype(np.uint8))\n",
      "/var/folders/gy/jk_d3cx54vj18w9sm6x3sg_80000gn/T/ipykernel_41732/1943300817.py:40: UserWarning: /Users/thomasathey/Library/CloudStorage/OneDrive-MassachusettsInstituteofTechnology/jellyfish-imaging/24_12_04_multi_res/images/8/p8_Section_005_r02_c02_tissue_gt_process.tif is a low contrast image\n",
      "  io.imsave(path_seg_new, mask.astype(np.uint8))\n",
      "/var/folders/gy/jk_d3cx54vj18w9sm6x3sg_80000gn/T/ipykernel_41732/1943300817.py:40: UserWarning: /Users/thomasathey/Library/CloudStorage/OneDrive-MassachusettsInstituteofTechnology/jellyfish-imaging/24_12_04_multi_res/images/8/p8_Section_003_r01_c01_tissue_gt_process.tif is a low contrast image\n",
      "  io.imsave(path_seg_new, mask.astype(np.uint8))\n",
      " 33%|███▎      | 2/6 [23:10<46:16, 694.06s/it]/var/folders/gy/jk_d3cx54vj18w9sm6x3sg_80000gn/T/ipykernel_41732/1943300817.py:40: UserWarning: /Users/thomasathey/Library/CloudStorage/OneDrive-MassachusettsInstituteofTechnology/jellyfish-imaging/24_12_04_multi_res/images/62/p62_Section_001_r01_c01_tissue_gt_process.tif is a low contrast image\n",
      "  io.imsave(path_seg_new, mask.astype(np.uint8))\n",
      "/var/folders/gy/jk_d3cx54vj18w9sm6x3sg_80000gn/T/ipykernel_41732/1943300817.py:40: UserWarning: /Users/thomasathey/Library/CloudStorage/OneDrive-MassachusettsInstituteofTechnology/jellyfish-imaging/24_12_04_multi_res/images/62/p62_Section_004_r01_c01_tissue_gt_process.tif is a low contrast image\n",
      "  io.imsave(path_seg_new, mask.astype(np.uint8))\n",
      "/var/folders/gy/jk_d3cx54vj18w9sm6x3sg_80000gn/T/ipykernel_41732/1943300817.py:40: UserWarning: /Users/thomasathey/Library/CloudStorage/OneDrive-MassachusettsInstituteofTechnology/jellyfish-imaging/24_12_04_multi_res/images/62/p62_Section_002_r01_c01_tissue_gt_process.tif is a low contrast image\n",
      "  io.imsave(path_seg_new, mask.astype(np.uint8))\n",
      "/var/folders/gy/jk_d3cx54vj18w9sm6x3sg_80000gn/T/ipykernel_41732/1943300817.py:40: UserWarning: /Users/thomasathey/Library/CloudStorage/OneDrive-MassachusettsInstituteofTechnology/jellyfish-imaging/24_12_04_multi_res/images/62/p62_Section_005_r01_c01_tissue_gt_process.tif is a low contrast image\n",
      "  io.imsave(path_seg_new, mask.astype(np.uint8))\n",
      "/var/folders/gy/jk_d3cx54vj18w9sm6x3sg_80000gn/T/ipykernel_41732/1943300817.py:40: UserWarning: /Users/thomasathey/Library/CloudStorage/OneDrive-MassachusettsInstituteofTechnology/jellyfish-imaging/24_12_04_multi_res/images/62/p62_Section_003_r01_c01_tissue_gt_process.tif is a low contrast image\n",
      "  io.imsave(path_seg_new, mask.astype(np.uint8))\n",
      " 50%|█████     | 3/6 [26:01<22:45, 455.26s/it]/var/folders/gy/jk_d3cx54vj18w9sm6x3sg_80000gn/T/ipykernel_41732/1943300817.py:40: UserWarning: /Users/thomasathey/Library/CloudStorage/OneDrive-MassachusettsInstituteofTechnology/jellyfish-imaging/24_12_04_multi_res/images/30/p30v3_Section_004_r01_c01_tissue_gt_process.tif is a low contrast image\n",
      "  io.imsave(path_seg_new, mask.astype(np.uint8))\n",
      "/var/folders/gy/jk_d3cx54vj18w9sm6x3sg_80000gn/T/ipykernel_41732/1943300817.py:40: UserWarning: /Users/thomasathey/Library/CloudStorage/OneDrive-MassachusettsInstituteofTechnology/jellyfish-imaging/24_12_04_multi_res/images/30/p30v3_Section_001_r01_c01_tissue_gt_process.tif is a low contrast image\n",
      "  io.imsave(path_seg_new, mask.astype(np.uint8))\n",
      "/var/folders/gy/jk_d3cx54vj18w9sm6x3sg_80000gn/T/ipykernel_41732/1943300817.py:40: UserWarning: /Users/thomasathey/Library/CloudStorage/OneDrive-MassachusettsInstituteofTechnology/jellyfish-imaging/24_12_04_multi_res/images/30/p30v3_Section_002_r01_c01_tissue_gt_process.tif is a low contrast image\n",
      "  io.imsave(path_seg_new, mask.astype(np.uint8))\n",
      "/var/folders/gy/jk_d3cx54vj18w9sm6x3sg_80000gn/T/ipykernel_41732/1943300817.py:40: UserWarning: /Users/thomasathey/Library/CloudStorage/OneDrive-MassachusettsInstituteofTechnology/jellyfish-imaging/24_12_04_multi_res/images/30/p30v2_Section_001_r01_c01_tissue_gt_process.tif is a low contrast image\n",
      "  io.imsave(path_seg_new, mask.astype(np.uint8))\n",
      "/var/folders/gy/jk_d3cx54vj18w9sm6x3sg_80000gn/T/ipykernel_41732/1943300817.py:40: UserWarning: /Users/thomasathey/Library/CloudStorage/OneDrive-MassachusettsInstituteofTechnology/jellyfish-imaging/24_12_04_multi_res/images/30/p30_Section_001_r01_c01_tissue_gt_process.tif is a low contrast image\n",
      "  io.imsave(path_seg_new, mask.astype(np.uint8))\n",
      "/var/folders/gy/jk_d3cx54vj18w9sm6x3sg_80000gn/T/ipykernel_41732/1943300817.py:40: UserWarning: /Users/thomasathey/Library/CloudStorage/OneDrive-MassachusettsInstituteofTechnology/jellyfish-imaging/24_12_04_multi_res/images/30/p30v3_Section_003_r01_c01_tissue_gt_process.tif is a low contrast image\n",
      "  io.imsave(path_seg_new, mask.astype(np.uint8))\n",
      " 67%|██████▋   | 4/6 [29:33<11:58, 359.21s/it]/var/folders/gy/jk_d3cx54vj18w9sm6x3sg_80000gn/T/ipykernel_41732/1943300817.py:40: UserWarning: /Users/thomasathey/Library/CloudStorage/OneDrive-MassachusettsInstituteofTechnology/jellyfish-imaging/24_12_04_multi_res/images/123/p123_Section_005_r01_c01_tissue_gt_process.tif is a low contrast image\n",
      "  io.imsave(path_seg_new, mask.astype(np.uint8))\n",
      "/var/folders/gy/jk_d3cx54vj18w9sm6x3sg_80000gn/T/ipykernel_41732/1943300817.py:40: UserWarning: /Users/thomasathey/Library/CloudStorage/OneDrive-MassachusettsInstituteofTechnology/jellyfish-imaging/24_12_04_multi_res/images/123/p123_Section_003_r01_c01_tissue_gt_process.tif is a low contrast image\n",
      "  io.imsave(path_seg_new, mask.astype(np.uint8))\n",
      "/var/folders/gy/jk_d3cx54vj18w9sm6x3sg_80000gn/T/ipykernel_41732/1943300817.py:40: UserWarning: /Users/thomasathey/Library/CloudStorage/OneDrive-MassachusettsInstituteofTechnology/jellyfish-imaging/24_12_04_multi_res/images/123/p123_Section_004_r01_c01_tissue_gt_process.tif is a low contrast image\n",
      "  io.imsave(path_seg_new, mask.astype(np.uint8))\n",
      "/var/folders/gy/jk_d3cx54vj18w9sm6x3sg_80000gn/T/ipykernel_41732/1943300817.py:40: UserWarning: /Users/thomasathey/Library/CloudStorage/OneDrive-MassachusettsInstituteofTechnology/jellyfish-imaging/24_12_04_multi_res/images/123/p123_Section_001_r01_c01_tissue_gt_process.tif is a low contrast image\n",
      "  io.imsave(path_seg_new, mask.astype(np.uint8))\n",
      "/var/folders/gy/jk_d3cx54vj18w9sm6x3sg_80000gn/T/ipykernel_41732/1943300817.py:40: UserWarning: /Users/thomasathey/Library/CloudStorage/OneDrive-MassachusettsInstituteofTechnology/jellyfish-imaging/24_12_04_multi_res/images/123/p123_Section_002_r01_c01_tissue_gt_process.tif is a low contrast image\n",
      "  io.imsave(path_seg_new, mask.astype(np.uint8))\n",
      "100%|██████████| 6/6 [32:27<00:00, 324.66s/it]\n"
     ]
    }
   ],
   "source": [
    "for res in tqdm(folders):\n",
    "    if res == '4':\n",
    "        continue\n",
    "    \n",
    "    path_dir = image_dir / res\n",
    "    path_ims = [f for f in os.listdir(path_dir) if os.path.isfile(os.path.join(path_dir, f))]\n",
    "    path_ims = [path_dir / f for f in path_ims if f.endswith('.tif') and \"_gt\" not in f]\n",
    "    path_segs = [str(f).replace(\".tif\", \"_tissue_gt.tif\") for f in path_ims]\n",
    "\n",
    "    for path_im, path_seg in tqdm(zip(path_ims, path_segs), leave=False):\n",
    "        im = read_image(path_im)\n",
    "        seg = read_image(path_seg)\n",
    "\n",
    "        mask = seg.copy()\n",
    "\n",
    "        # gaussian filter\n",
    "        im_thresh = gaussian(im, sigma=3)\n",
    "        # # select intensities for thresholding\n",
    "        intensities = im_thresh[seg > 0]\n",
    "        thresh = threshold_otsu(intensities)\n",
    "        mask[im_thresh > thresh] = 0\n",
    "\n",
    "        mask = measure.block_reduce(mask, (2, 2), np.max)\n",
    "\n",
    "        mask = binary_closing(mask, footprint=disk(8))\n",
    "        mask = binary_dilation(mask, disk(12))\n",
    "\n",
    "        mask = np.repeat(mask, 2, axis=0)\n",
    "        mask = np.repeat(mask, 2, axis=1)\n",
    "        mask[seg == 0] = 0\n",
    "\n",
    "        # viewer = napari.Viewer()\n",
    "        # viewer.add_image(im)\n",
    "        # viewer.add_labels(mask)\n",
    "\n",
    "        # napari.run()\n",
    "        # answer = input(\"Ok?\")\n",
    "\n",
    "        path_seg_new = path_seg.replace(\".tif\", \"_process.tif\")\n",
    "        io.imsave(path_seg_new, mask.astype(np.uint8))"
   ]
  },
  {
   "cell_type": "markdown",
   "metadata": {},
   "source": [
    "## View GT"
   ]
  },
  {
   "cell_type": "code",
   "execution_count": 8,
   "metadata": {},
   "outputs": [
    {
     "name": "stderr",
     "output_type": "stream",
     "text": [
      "0it [00:00, ?it/s]/Users/thomasathey/Documents/shavit-lab/jellyfish/.venv/lib/python3.12/site-packages/PIL/Image.py:3406: DecompressionBombWarning: Image size (150994944 pixels) exceeds limit of 89478485 pixels, could be decompression bomb DOS attack.\n",
      "  warnings.warn(\n",
      "1it [00:03,  3.29s/it]/Users/thomasathey/Documents/shavit-lab/jellyfish/.venv/lib/python3.12/site-packages/PIL/Image.py:3406: DecompressionBombWarning: Image size (150994944 pixels) exceeds limit of 89478485 pixels, could be decompression bomb DOS attack.\n",
      "  warnings.warn(\n",
      "2it [00:04,  2.20s/it]/Users/thomasathey/Documents/shavit-lab/jellyfish/.venv/lib/python3.12/site-packages/PIL/Image.py:3406: DecompressionBombWarning: Image size (150994944 pixels) exceeds limit of 89478485 pixels, could be decompression bomb DOS attack.\n",
      "  warnings.warn(\n",
      "3it [00:06,  1.91s/it]/Users/thomasathey/Documents/shavit-lab/jellyfish/.venv/lib/python3.12/site-packages/PIL/Image.py:3406: DecompressionBombWarning: Image size (150994944 pixels) exceeds limit of 89478485 pixels, could be decompression bomb DOS attack.\n",
      "  warnings.warn(\n",
      "4it [00:07,  1.81s/it]/Users/thomasathey/Documents/shavit-lab/jellyfish/.venv/lib/python3.12/site-packages/PIL/Image.py:3406: DecompressionBombWarning: Image size (150994944 pixels) exceeds limit of 89478485 pixels, could be decompression bomb DOS attack.\n",
      "  warnings.warn(\n",
      "Context leak detected, msgtracer returned -1\n",
      "                      \r"
     ]
    }
   ],
   "source": [
    "res = '123'\n",
    "\n",
    "path_dir = image_dir / res\n",
    "path_ims = [f for f in os.listdir(path_dir) if os.path.isfile(os.path.join(path_dir, f))]\n",
    "path_ims = [path_dir / f for f in path_ims if f.endswith('.tif') and \"_gt\" not in f]\n",
    "path_segs = [str(f).replace(\".tif\", \"_tissue_gt_process.tif\") for f in path_ims]\n",
    "\n",
    "for path_im, path_seg in tqdm(zip(path_ims, path_segs), leave=False):\n",
    "    im = read_image(path_im)\n",
    "    seg = read_image(path_seg)\n",
    "\n",
    "    viewer = napari.Viewer()\n",
    "    viewer.add_image(im, name=path_im.stem)\n",
    "    viewer.add_labels(seg)\n",
    "    napari.run()"
   ]
  },
  {
   "cell_type": "markdown",
   "metadata": {},
   "source": [
    "# How long to image slice?"
   ]
  },
  {
   "cell_type": "markdown",
   "metadata": {},
   "source": [
    "## Small slice"
   ]
  },
  {
   "cell_type": "code",
   "execution_count": 3,
   "metadata": {},
   "outputs": [],
   "source": [
    "res = 123\n",
    "plot = False\n",
    "dt = 1 #dwell time in microseconds"
   ]
  },
  {
   "cell_type": "code",
   "execution_count": 7,
   "metadata": {},
   "outputs": [],
   "source": [
    "path_dir = image_dir / str(res)\n",
    "path_ims = [f for f in os.listdir(path_dir) if os.path.isfile(os.path.join(path_dir, f))]\n",
    "path_ims = [path_dir / f for f in path_ims if f.endswith('.tif') and \"_gt\" not in f]\n",
    "path_segs = [str(f).replace(\".tif\", \"_tissue_gt.tif\") for f in path_ims]"
   ]
  },
  {
   "cell_type": "markdown",
   "metadata": {},
   "source": [
    "### Area"
   ]
  },
  {
   "cell_type": "code",
   "execution_count": 10,
   "metadata": {},
   "outputs": [
    {
     "name": "stderr",
     "output_type": "stream",
     "text": [
      "/Users/thomasathey/Documents/shavit-lab/jellyfish/.venv/lib/python3.12/site-packages/PIL/Image.py:3406: DecompressionBombWarning: Image size (150994944 pixels) exceeds limit of 89478485 pixels, could be decompression bomb DOS attack.\n",
      "  warnings.warn(\n"
     ]
    },
    {
     "name": "stdout",
     "output_type": "stream",
     "text": [
      "Pixels: 0.0h 19.0m 7.7s for area of 1.84e-02 mm^2\n",
      "Tiles: 0.0h 29.0m 12.2s for area of 2.80e-02 mm^2\n",
      "Pixels: 0.0h 17.0m 0.0s for area of 1.63e-02 mm^2\n",
      "Tiles: 0.0h 27.0m 16.5s for area of 2.62e-02 mm^2\n",
      "Pixels: 0.0h 16.0m 27.7s for area of 1.58e-02 mm^2\n",
      "Tiles: 0.0h 26.0m 37.3s for area of 2.56e-02 mm^2\n",
      "Pixels: 0.0h 14.0m 50.6s for area of 1.42e-02 mm^2\n",
      "Tiles: 0.0h 25.0m 5.4s for area of 2.41e-02 mm^2\n",
      "Pixels: 0.0h 16.0m 28.8s for area of 1.58e-02 mm^2\n",
      "Tiles: 0.0h 26.0m 29.7s for area of 2.54e-02 mm^2\n"
     ]
    },
    {
     "data": {
      "text/plain": [
       "<Axes: xlabel='Method', ylabel='Imaging Time with 1 us Dwell Time'>"
      ]
     },
     "execution_count": 10,
     "metadata": {},
     "output_type": "execute_result"
    },
    {
     "data": {
      "image/png": "[encoded data removed]",
      "text/plain": [
       "<Figure size 640x480 with 1 Axes>"
      ]
     },
     "metadata": {},
     "output_type": "display_data"
    }
   ],
   "source": [
    "tile_size = (12288, 12288)\n",
    "ds_factor = res // 4\n",
    "\n",
    "data_time = []\n",
    "data_method = []\n",
    "\n",
    "for path_im, path_seg in zip(path_ims, path_segs):\n",
    "    im = read_image(path_im)\n",
    "    seg_px = read_image(path_seg)\n",
    "    seg_tiles = mask_to_tiles(seg_px, ds_factor)\n",
    "\n",
    "    for name, seg in zip([\"Pixels\", \"Tiles\"], [seg_px, seg_tiles]):\n",
    "        area = np.sum(seg > 0)\n",
    "        area_nm2 = area * res**2\n",
    "        area_mm = area_nm2 / 1e6**2\n",
    "        area_px = area_nm2 / 4**2\n",
    "        time_s = area_px * dt *1e-6\n",
    "\n",
    "        data_time.append(time_s)\n",
    "        data_method.append(name)\n",
    "\n",
    "        # convert time_s to hours, minutes, seconds\n",
    "        time_h = time_s // 3600\n",
    "        time_s = time_s % 3600\n",
    "        time_m = time_s // 60\n",
    "        time_s = time_s % 60\n",
    "\n",
    "        print(f\"{name}: {time_h}h {time_m}m {time_s:.1f}s for area of {area_mm :.2e} mm^2\")\n",
    "\n",
    "\n",
    "    if plot:\n",
    "        viewer = napari.Viewer()\n",
    "        viewer.add_image(im, name=path_im.stem)\n",
    "        viewer.add_labels(seg_px, name=\"Pixels\")\n",
    "        viewer.add_labels(seg_tiles, name=\"Tiles\")\n",
    "        napari.run()\n",
    "\n",
    "data = {f\"Imaging Time with {dt} us Dwell Time\": data_time, \"Method\": data_method}\n",
    "df = pd.DataFrame(data)\n",
    "sns.stripplot(data, x=\"Method\", y=f\"Imaging Time with {dt} us Dwell Time\")\n"
   ]
  },
  {
   "cell_type": "markdown",
   "metadata": {},
   "source": [
    "# Automatic segmentation"
   ]
  },
  {
   "cell_type": "code",
   "execution_count": 6,
   "metadata": {},
   "outputs": [],
   "source": [
    "res = 123\n",
    "plot = True"
   ]
  },
  {
   "cell_type": "code",
   "execution_count": 7,
   "metadata": {},
   "outputs": [],
   "source": [
    "path_dir = image_dir / str(res)\n",
    "path_ims = [f for f in os.listdir(path_dir) if os.path.isfile(os.path.join(path_dir, f))]\n",
    "path_ims = [path_dir / f for f in path_ims if f.endswith('.tif') and \"_gt\" not in f]\n",
    "path_segs = [str(f).replace(\".tif\", \"_tissue_gt.tif\") for f in path_ims]\n",
    "path_preds = [str(f).replace(\".tif\", \"_Simple Segmentation.h5\") for f in path_ims]\n"
   ]
  },
  {
   "cell_type": "code",
   "execution_count": 8,
   "metadata": {},
   "outputs": [
    {
     "name": "stderr",
     "output_type": "stream",
     "text": [
      "/Users/thomasathey/Documents/shavit-lab/jellyfish/.venv/lib/python3.12/site-packages/PIL/Image.py:3406: DecompressionBombWarning: Image size (150994944 pixels) exceeds limit of 89478485 pixels, could be decompression bomb DOS attack.\n",
      "  warnings.warn(\n"
     ]
    },
    {
     "name": "stdout",
     "output_type": "stream",
     "text": [
      "Removing small objects\n",
      "Closing\n",
      "Dilation\n",
      "Removing small objects\n"
     ]
    },
    {
     "name": "stderr",
     "output_type": "stream",
     "text": [
      "/Users/thomasathey/Documents/shavit-lab/jellyfish/.venv/lib/python3.12/site-packages/PIL/Image.py:3406: DecompressionBombWarning: Image size (150994944 pixels) exceeds limit of 89478485 pixels, could be decompression bomb DOS attack.\n",
      "  warnings.warn(\n"
     ]
    },
    {
     "name": "stdout",
     "output_type": "stream",
     "text": [
      "Removing small objects\n",
      "Closing\n",
      "Dilation\n",
      "Removing small objects\n"
     ]
    },
    {
     "name": "stderr",
     "output_type": "stream",
     "text": [
      "/Users/thomasathey/Documents/shavit-lab/jellyfish/.venv/lib/python3.12/site-packages/PIL/Image.py:3406: DecompressionBombWarning: Image size (150994944 pixels) exceeds limit of 89478485 pixels, could be decompression bomb DOS attack.\n",
      "  warnings.warn(\n"
     ]
    },
    {
     "name": "stdout",
     "output_type": "stream",
     "text": [
      "Removing small objects\n",
      "Closing\n",
      "Dilation\n",
      "Removing small objects\n"
     ]
    }
   ],
   "source": [
    "tile_size = (12288, 12288)\n",
    "ds_factor = res // 4\n",
    "\n",
    "data_time = []\n",
    "data_method = []\n",
    "\n",
    "for path_im, path_seg, path_pred in zip(path_ims, path_segs, path_preds):\n",
    "    if not os.path.isfile(path_pred):\n",
    "        continue\n",
    "    im = read_image(path_im)\n",
    "    seg_px = read_image(path_seg)\n",
    "    seg_tiles = mask_to_tiles(seg_px, ds_factor)\n",
    "    seg_pred = read_image(path_pred)\n",
    "    seg_pred_postprocess = postprocess_mask(seg_pred)\n",
    "\n",
    "    # for name, seg in zip([\"Pixels\", \"Tiles\"], [seg_px, seg_tiles]):\n",
    "    #     area = np.sum(seg > 0)\n",
    "    #     area_nm2 = area * res**2\n",
    "    #     area_mm = area_nm2 / 1e6**2\n",
    "    #     area_px = area_nm2 / 4**2\n",
    "    #     time_s = area_px * dt *1e-6\n",
    "\n",
    "    #     data_time.append(time_s)\n",
    "    #     data_method.append(name)\n",
    "\n",
    "    #     # convert time_s to hours, minutes, seconds\n",
    "    #     time_h = time_s // 3600\n",
    "    #     time_s = time_s % 3600\n",
    "    #     time_m = time_s // 60\n",
    "    #     time_s = time_s % 60\n",
    "\n",
    "    #     print(f\"{name}: {time_h}h {time_m}m {time_s:.1f}s for area of {area_mm :.2e} mm^2\")\n",
    "\n",
    "\n",
    "    if plot:\n",
    "        viewer = napari.Viewer()\n",
    "        viewer.add_image(im, name=path_im.stem)\n",
    "        viewer.add_labels(seg_px, name=\"Pixels\")\n",
    "        viewer.add_labels(seg_tiles, name=\"Tiles\")\n",
    "        viewer.add_labels(seg_pred, name=\"Predictions\")\n",
    "        viewer.add_labels(seg_pred_postprocess, name=\"Predictions Postprocessed\")\n",
    "        napari.run()\n",
    "\n",
    "    \n",
    "\n",
    "# data = {f\"Imaging Time with {dt} us Dwell Time\": data_time, \"Method\": data_method}\n",
    "# df = pd.DataFrame(data)\n",
    "# sns.stripplot(data, x=\"Method\", y=f\"Imaging Time with {dt} us Dwell Time\")\n"
   ]
  }
 ],
 "metadata": {
  "kernelspec": {
   "display_name": ".venv",
   "language": "python",
   "name": "python3"
  },
  "language_info": {
   "codemirror_mode": {
    "name": "ipython",
    "version": 3
   },
   "file_extension": ".py",
   "mimetype": "text/x-python",
   "name": "python",
   "nbconvert_exporter": "python",
   "pygments_lexer": "ipython3",
   "version": "3.12.7"
  }
 },
 "nbformat": 4,
 "nbformat_minor": 2
}
