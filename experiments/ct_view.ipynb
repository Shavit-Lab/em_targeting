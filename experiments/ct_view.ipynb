{
 "cells": [
  {
   "cell_type": "code",
   "execution_count": 1,
   "metadata": {},
   "outputs": [],
   "source": [
    "from skimage import io, measure\n",
    "import matplotlib.pyplot as plt\n",
    "import os\n",
    "import numpy as np \n",
    "import napari\n",
    "import h5py\n",
    "from tqdm import tqdm\n",
    "import statistics\n",
    "import scipy.ndimage as ndi\n",
    "import pandas as pd\n",
    "import seaborn as sns\n",
    "from tqdm.notebook import tqdm\n",
    "from pathlib import Path"
   ]
  },
  {
   "cell_type": "markdown",
   "metadata": {},
   "source": [
    "# Read data"
   ]
  },
  {
   "cell_type": "code",
   "execution_count": 2,
   "metadata": {},
   "outputs": [
    {
     "name": "stdout",
     "output_type": "stream",
     "text": [
      "Image shape: (1013, 981, 992)\n"
     ]
    }
   ],
   "source": [
    "im_folder = \"/Users/thomasathey/Documents/shavit-lab/jellyfish/CT_scan_cand13/tifs\"\n",
    "res = 1.382273\n",
    "\n",
    "\n",
    "res_3d = (res, res, res)\n",
    "\n",
    "image = io.imread(\"/Users/thomasathey/Documents/shavit-lab/jellyfish/CT_scan_cand13/3d_processed_files/im_full.tif\")\n",
    "\n",
    "print(f\"Image shape: {image.shape}\")"
   ]
  },
  {
   "cell_type": "code",
   "execution_count": 3,
   "metadata": {},
   "outputs": [],
   "source": [
    "seg_obj = io.imread(\"/Users/thomasathey/Documents/shavit-lab/jellyfish/CT_scan_cand13/3d_processed_files/obj_full.tif\")\n",
    "seg_subum = io.imread(\"/Users/thomasathey/Documents/shavit-lab/jellyfish/CT_scan_cand13/3d_processed_files/subum_full.tif\")"
   ]
  },
  {
   "cell_type": "code",
   "execution_count": 4,
   "metadata": {},
   "outputs": [],
   "source": [
    "folder = Path(\"/Users/thomasathey/Documents/shavit-lab/jellyfish/CT_scan_cand13/3d_processed_files\")\n",
    "\n",
    "image_crop = io.imread(folder / \"im_hemi.tif\")\n",
    "seg_subum_crop = io.imread(folder / \"subum_hemi.tif\")\n",
    "seg_obj_crop = io.imread(folder / \"obj_hemi.tif\")"
   ]
  },
  {
   "cell_type": "code",
   "execution_count": 12,
   "metadata": {},
   "outputs": [],
   "source": [
    "# show im_stack in a napari viewer\n",
    "viewer = napari.Viewer()\n",
    "\n",
    "viewer.add_image(image, scale=res_3d)\n",
    "viewer.add_labels(seg_obj, scale=res_3d)\n",
    "viewer.add_labels(seg_subum, scale=res_3d)\n",
    "viewer.scale_bar.unit = 'um'\n",
    "viewer.scale_bar.visible = True"
   ]
  },
  {
   "cell_type": "code",
   "execution_count": 5,
   "metadata": {},
   "outputs": [],
   "source": [
    "viewer = napari.Viewer()"
   ]
  },
  {
   "cell_type": "code",
   "execution_count": 13,
   "metadata": {},
   "outputs": [],
   "source": [
    "# show im_stack in a napari viewer\n",
    "viewer = napari.Viewer()\n",
    "\n",
    "viewer.add_image(image_crop, scale=res_3d)\n",
    "viewer.add_labels(seg_obj_crop, scale=res_3d)\n",
    "viewer.add_labels(seg_subum_crop, scale=res_3d)\n",
    "viewer.scale_bar.unit = 'um'\n",
    "viewer.scale_bar.visible = True"
   ]
  },
  {
   "cell_type": "code",
   "execution_count": 15,
   "metadata": {},
   "outputs": [
    {
     "data": {
      "text/plain": [
       "np.float64(248.49024491894588)"
      ]
     },
     "execution_count": 15,
     "metadata": {},
     "output_type": "execute_result"
    }
   ],
   "source": [
    "p1 = (973,1026)\n",
    "p2 = (1112, 1140)\n",
    "\n",
    "np.linalg.norm(np.subtract(p2,p1)*res)"
   ]
  },
  {
   "cell_type": "code",
   "execution_count": null,
   "metadata": {},
   "outputs": [],
   "source": []
  }
 ],
 "metadata": {
  "kernelspec": {
   "display_name": ".venv",
   "language": "python",
   "name": "python3"
  },
  "language_info": {
   "codemirror_mode": {
    "name": "ipython",
    "version": 3
   },
   "file_extension": ".py",
   "mimetype": "text/x-python",
   "name": "python",
   "nbconvert_exporter": "python",
   "pygments_lexer": "ipython3",
   "version": "3.12.7"
  }
 },
 "nbformat": 4,
 "nbformat_minor": 2
}
