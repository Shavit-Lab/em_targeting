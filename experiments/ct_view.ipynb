{
 "cells": [
  {
   "cell_type": "code",
   "execution_count": 1,
   "metadata": {},
   "outputs": [],
   "source": [
    "from skimage import io, measure\n",
    "import matplotlib.pyplot as plt\n",
    "import os\n",
    "import numpy as np \n",
    "import napari\n",
    "import h5py\n",
    "from tqdm import tqdm\n",
    "import statistics\n",
    "import scipy.ndimage as ndi\n",
    "import pandas as pd\n",
    "import seaborn as sns\n",
    "from tqdm.notebook import tqdm\n",
    "from pathlib import Path"
   ]
  },
  {
   "cell_type": "markdown",
   "metadata": {},
   "source": [
    "# Read data"
   ]
  },
  {
   "cell_type": "code",
   "execution_count": 2,
   "metadata": {},
   "outputs": [],
   "source": [
    "im_folder = \"/Users/thomasathey/Documents/shavit-lab/jellyfish/CT_scan_cand13/tifs\"\n",
    "im_folder = \"/Users/thomasathey/Library/CloudStorage/OneDrive-MassachusettsInstituteofTechnology/jellyfish-imaging/25_01_07tommy_ct_2025-01-06_170445/tiffs\"\n",
    "\n",
    "res = 1.382273\n",
    "\n",
    "res_3d = (res, res, res)"
   ]
  },
  {
   "cell_type": "markdown",
   "metadata": {},
   "source": [
    "## Collect 2d images from im_folder"
   ]
  },
  {
   "cell_type": "code",
   "execution_count": 3,
   "metadata": {},
   "outputs": [
    {
     "data": {
      "application/vnd.jupyter.widget-view+json": {
       "model_id": "dc43de3893b540428b35f8987ef9c683",
       "version_major": 2,
       "version_minor": 0
      },
      "text/plain": [
       "  0%|          | 0/993 [00:00<?, ?it/s]"
      ]
     },
     "metadata": {},
     "output_type": "display_data"
    },
    {
     "data": {
      "text/plain": [
       "(993, 1013, 990)"
      ]
     },
     "execution_count": 3,
     "metadata": {},
     "output_type": "execute_result"
    }
   ],
   "source": [
    "# identify all tifs in im_folder and sort them by their name\n",
    "im_files = os.listdir(im_folder)\n",
    "im_files = [f for f in im_files if f.endswith('.tiff')]\n",
    "im_files.sort()\n",
    "\n",
    "# read all tifs and stack them into a 3D array\n",
    "im_stack = []\n",
    "for f in tqdm(im_files):\n",
    "    im = io.imread(os.path.join(im_folder, f))\n",
    "    im_stack.append(im)\n",
    "im_stack = np.array(im_stack)\n",
    "\n",
    "image = im_stack\n",
    "\n",
    "im_stack.shape"
   ]
  },
  {
   "cell_type": "markdown",
   "metadata": {},
   "source": [
    "## Read a 3d image"
   ]
  },
  {
   "cell_type": "code",
   "execution_count": null,
   "metadata": {},
   "outputs": [],
   "source": [
    "image = io.imread(\"/Users/thomasathey/Documents/shavit-lab/jellyfish/CT_scan_cand13/3d_processed_files/im_full.tif\")\n",
    "\n",
    "print(f\"Image shape: {image.shape}\")"
   ]
  },
  {
   "cell_type": "code",
   "execution_count": 3,
   "metadata": {},
   "outputs": [],
   "source": [
    "seg_obj = io.imread(\"/Users/thomasathey/Documents/shavit-lab/jellyfish/CT_scan_cand13/3d_processed_files/obj_full.tif\")\n",
    "seg_subum = io.imread(\"/Users/thomasathey/Documents/shavit-lab/jellyfish/CT_scan_cand13/3d_processed_files/subum_full.tif\")"
   ]
  },
  {
   "cell_type": "code",
   "execution_count": 4,
   "metadata": {},
   "outputs": [],
   "source": [
    "folder = Path(\"/Users/thomasathey/Documents/shavit-lab/jellyfish/CT_scan_cand13/3d_processed_files\")\n",
    "\n",
    "image_crop = io.imread(folder / \"im_hemi.tif\")\n",
    "seg_subum_crop = io.imread(folder / \"subum_hemi.tif\")\n",
    "seg_obj_crop = io.imread(folder / \"obj_hemi.tif\")"
   ]
  },
  {
   "cell_type": "markdown",
   "metadata": {},
   "source": [
    "## Read new 3d image"
   ]
  },
  {
   "cell_type": "code",
   "execution_count": 2,
   "metadata": {},
   "outputs": [
    {
     "name": "stdout",
     "output_type": "stream",
     "text": [
      "Image shape: (993, 1013, 990)\n"
     ]
    }
   ],
   "source": [
    "image = io.imread(\"/Users/thomasathey/Library/CloudStorage/OneDrive-MassachusettsInstituteofTechnology/jellyfish-imaging/25_01_07tommy_ct_2025-01-06_170445/derivatives/im_full.tif\")\n",
    "\n",
    "print(f\"Image shape: {image.shape}\")"
   ]
  },
  {
   "cell_type": "markdown",
   "metadata": {},
   "source": [
    "## View data in napari"
   ]
  },
  {
   "cell_type": "markdown",
   "metadata": {},
   "source": [
    "### Image only in unit resolution"
   ]
  },
  {
   "cell_type": "code",
   "execution_count": 8,
   "metadata": {},
   "outputs": [],
   "source": [
    "io.imsave(\"/Users/thomasathey/Library/CloudStorage/OneDrive-MassachusettsInstituteofTechnology/jellyfish-imaging/25_01_07tommy_ct_2025-01-06_170445/derivatives/im_full.tif\", image)"
   ]
  },
  {
   "cell_type": "code",
   "execution_count": 5,
   "metadata": {},
   "outputs": [],
   "source": [
    "image_crop_rough = image#[:940,:,:] #image[:940,200:,:]"
   ]
  },
  {
   "cell_type": "code",
   "execution_count": 6,
   "metadata": {},
   "outputs": [
    {
     "data": {
      "text/plain": [
       "<Image layer 'image_crop_rough' at 0x1466c38c0>"
      ]
     },
     "execution_count": 6,
     "metadata": {},
     "output_type": "execute_result"
    }
   ],
   "source": [
    "# show im_stack in a napari viewer\n",
    "viewer = napari.Viewer()\n",
    "\n",
    "viewer.add_image(image_crop_rough)"
   ]
  },
  {
   "cell_type": "code",
   "execution_count": 5,
   "metadata": {},
   "outputs": [
    {
     "data": {
      "text/plain": [
       "np.float64(497.51884386422995)"
      ]
     },
     "execution_count": 5,
     "metadata": {},
     "output_type": "execute_result"
    }
   ],
   "source": [
    "\n",
    "\n",
    "np.linalg.norm(np.subtract(b,c))\n"
   ]
  },
  {
   "cell_type": "code",
   "execution_count": 19,
   "metadata": {},
   "outputs": [
    {
     "data": {
      "text/plain": [
       "<Points layer 'Points [1]' at 0x1558d7c20>"
      ]
     },
     "execution_count": 19,
     "metadata": {},
     "output_type": "execute_result"
    }
   ],
   "source": [
    "points = np.array([a,b,c,d])\n",
    "mx = np.amax(points)\n",
    "im_blank = 100*np.ones((mx, mx, mx), dtype=np.uint8)\n",
    "im_blank[0,0,0] = 0\n",
    "\n",
    "viewer = napari.Viewer()\n",
    "viewer.add_image(im_blank)\n",
    "viewer.add_points(points[:1,:], size=10, face_color='red', border_color='white')\n",
    "viewer.add_points(points[1:,:], size=10, face_color='green', border_color='white')"
   ]
  },
  {
   "cell_type": "markdown",
   "metadata": {},
   "source": [
    "### True resolution"
   ]
  },
  {
   "cell_type": "code",
   "execution_count": 8,
   "metadata": {},
   "outputs": [],
   "source": [
    "# show im_stack in a napari viewer\n",
    "viewer = napari.Viewer()\n",
    "\n",
    "viewer.add_image(image, scale=res_3d)\n",
    "viewer.add_labels(seg_obj, scale=res_3d)\n",
    "viewer.add_labels(seg_subum, scale=res_3d)\n",
    "viewer.scale_bar.unit = 'um'\n",
    "viewer.scale_bar.visible = True"
   ]
  },
  {
   "cell_type": "code",
   "execution_count": 6,
   "metadata": {},
   "outputs": [],
   "source": [
    "viewer = napari.Viewer()"
   ]
  },
  {
   "cell_type": "code",
   "execution_count": 13,
   "metadata": {},
   "outputs": [],
   "source": [
    "# show im_stack in a napari viewer\n",
    "viewer = napari.Viewer()\n",
    "\n",
    "viewer.add_image(image_crop, scale=res_3d)\n",
    "viewer.add_labels(seg_obj_crop, scale=res_3d)\n",
    "viewer.add_labels(seg_subum_crop, scale=res_3d)\n",
    "viewer.scale_bar.unit = 'um'\n",
    "viewer.scale_bar.visible = True"
   ]
  },
  {
   "cell_type": "code",
   "execution_count": 15,
   "metadata": {},
   "outputs": [
    {
     "data": {
      "text/plain": [
       "np.float64(248.49024491894588)"
      ]
     },
     "execution_count": 15,
     "metadata": {},
     "output_type": "execute_result"
    }
   ],
   "source": [
    "p1 = (973,1026)\n",
    "p2 = (1112, 1140)\n",
    "\n",
    "np.linalg.norm(np.subtract(p2,p1)*res)"
   ]
  },
  {
   "cell_type": "markdown",
   "metadata": {},
   "source": [
    "# Gonad coords"
   ]
  },
  {
   "cell_type": "code",
   "execution_count": 3,
   "metadata": {},
   "outputs": [],
   "source": [
    "# zeiss viewer\n",
    "a = [496, 712, 788]\n",
    "b = [356,410, 721]\n",
    "c = [674, 686, 456]\n",
    "d = [456, 388, 373]\n",
    "\n",
    "mouth = [563, 564, 467]\n",
    "\n",
    "# reverse into napari coordinates\n",
    "a.reverse()\n",
    "b.reverse()\n",
    "c.reverse()\n",
    "d.reverse()\n",
    "\n",
    "points = np.array([a,b,c,d])"
   ]
  },
  {
   "cell_type": "code",
   "execution_count": 4,
   "metadata": {},
   "outputs": [
    {
     "ename": "NameError",
     "evalue": "name 'image_crop_rough' is not defined",
     "output_type": "error",
     "traceback": [
      "\u001b[0;31m---------------------------------------------------------------------------\u001b[0m",
      "\u001b[0;31mNameError\u001b[0m                                 Traceback (most recent call last)",
      "Cell \u001b[0;32mIn[4], line 4\u001b[0m\n\u001b[1;32m      1\u001b[0m \u001b[38;5;66;03m# show im_stack in a napari viewer\u001b[39;00m\n\u001b[1;32m      2\u001b[0m viewer \u001b[38;5;241m=\u001b[39m napari\u001b[38;5;241m.\u001b[39mViewer()\n\u001b[0;32m----> 4\u001b[0m viewer\u001b[38;5;241m.\u001b[39madd_image(\u001b[43mimage_crop_rough\u001b[49m)\n\u001b[1;32m      5\u001b[0m viewer\u001b[38;5;241m.\u001b[39madd_points([a], size\u001b[38;5;241m=\u001b[39m\u001b[38;5;241m10\u001b[39m, face_color\u001b[38;5;241m=\u001b[39m\u001b[38;5;124m'\u001b[39m\u001b[38;5;124mred\u001b[39m\u001b[38;5;124m'\u001b[39m, border_color\u001b[38;5;241m=\u001b[39m\u001b[38;5;124m'\u001b[39m\u001b[38;5;124mwhite\u001b[39m\u001b[38;5;124m'\u001b[39m)\n\u001b[1;32m      6\u001b[0m viewer\u001b[38;5;241m.\u001b[39madd_points([b,c], size\u001b[38;5;241m=\u001b[39m\u001b[38;5;241m10\u001b[39m, face_color\u001b[38;5;241m=\u001b[39m\u001b[38;5;124m'\u001b[39m\u001b[38;5;124morange\u001b[39m\u001b[38;5;124m'\u001b[39m, border_color\u001b[38;5;241m=\u001b[39m\u001b[38;5;124m'\u001b[39m\u001b[38;5;124mwhite\u001b[39m\u001b[38;5;124m'\u001b[39m)\n",
      "\u001b[0;31mNameError\u001b[0m: name 'image_crop_rough' is not defined"
     ]
    }
   ],
   "source": [
    "# show im_stack in a napari viewer\n",
    "viewer = napari.Viewer()\n",
    "\n",
    "viewer.add_image(image_crop_rough)\n",
    "viewer.add_points([a], size=10, face_color='red', border_color='white')\n",
    "viewer.add_points([b,c], size=10, face_color='orange', border_color='white')\n",
    "viewer.add_points([d], size=10, face_color='green', border_color='white')\n",
    "viewer.add_points([mouth], size=10, face_color='blue', border_color='white')"
   ]
  },
  {
   "cell_type": "markdown",
   "metadata": {},
   "source": [
    "## Normal vector"
   ]
  },
  {
   "cell_type": "code",
   "execution_count": 5,
   "metadata": {},
   "outputs": [],
   "source": [
    "v1 = np.subtract(b,c)\n",
    "v2 = np.subtract(b,mouth)\n",
    "\n",
    "v1 = v1.astype(float)\n",
    "v2 = v2.astype(float)\n",
    "\n",
    "# v1 /= np.linalg.norm(v1)\n",
    "# v2 /= np.linalg.norm(v2)\n",
    "\n",
    "normal = np.cross(v1,v2)\n",
    "normal /= np.linalg.norm(normal)\n",
    "\n",
    "normal2 = (normal[-1], normal[1], normal[2])"
   ]
  },
  {
   "cell_type": "code",
   "execution_count": 6,
   "metadata": {},
   "outputs": [],
   "source": [
    "# show im_stack in a napari viewer\n",
    "viewer = napari.Viewer()\n",
    "\n",
    "viewer.add_image(image)\n",
    "viewer.add_points([a], size=10, face_color='red', border_color='white')\n",
    "viewer.add_points([b,c], size=10, face_color='orange', border_color='white')\n",
    "viewer.add_points([d], size=10, face_color='green', border_color='white')\n",
    "viewer.add_points([mouth], size=10, face_color='blue', border_color='white')\n",
    "\n",
    "\n",
    "\n",
    "plane_parameters = {\n",
    "    'position': (0, 0, 0),\n",
    "    'normal': normal\n",
    "    }\n",
    "plane_layer = viewer.add_image(\n",
    "    image,\n",
    "    name='plane',\n",
    "    rendering='average',\n",
    "    depiction='plane',\n",
    "    blending='additive',\n",
    "    colormap='cyan',\n",
    "    plane=plane_parameters\n",
    "    )\n"
   ]
  },
  {
   "cell_type": "code",
   "execution_count": null,
   "metadata": {},
   "outputs": [],
   "source": []
  }
 ],
 "metadata": {
  "kernelspec": {
   "display_name": ".venv",
   "language": "python",
   "name": "python3"
  },
  "language_info": {
   "codemirror_mode": {
    "name": "ipython",
    "version": 3
   },
   "file_extension": ".py",
   "mimetype": "text/x-python",
   "name": "python",
   "nbconvert_exporter": "python",
   "pygments_lexer": "ipython3",
   "version": "3.12.7"
  }
 },
 "nbformat": 4,
 "nbformat_minor": 2
}
